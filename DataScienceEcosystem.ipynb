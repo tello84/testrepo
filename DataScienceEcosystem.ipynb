{
 "cells": [
  {
   "cell_type": "markdown",
   "id": "0b0ea46b-83f9-43b8-8090-b879676349e8",
   "metadata": {
    "tags": []
   },
   "source": [
    "# Data Science Tools and Ecosystem"
   ]
  },
  {
   "cell_type": "markdown",
   "id": "fb84e159-7217-446a-80db-422673fc9973",
   "metadata": {},
   "source": [
    "In this notebook, Data Science Tools and Ecosystem are summarized."
   ]
  },
  {
   "cell_type": "markdown",
   "id": "c80be88f-6b1c-4d9b-970b-9bed91911418",
   "metadata": {
    "tags": []
   },
   "source": [
    "Some of the commonly used libaries used by Data Scientists include:"
   ]
  },
  {
   "cell_type": "markdown",
   "id": "13f3731d-427f-430b-a520-245b1ceb3793",
   "metadata": {
    "tags": []
   },
   "source": [
    "1. R\n",
    "2. Python\n",
    "3. Julia"
   ]
  },
  {
   "cell_type": "markdown",
   "id": "1f681f4f-b084-4264-a785-7bae24446623",
   "metadata": {
    "tags": []
   },
   "source": [
    "Some of the commonly used libraries used by Data Scientists include:\n",
    "1. Numpy\n",
    "2. SciPy\n",
    "3. ggplot2"
   ]
  },
  {
   "cell_type": "markdown",
   "id": "8752896d-60b7-431b-9aa8-2a0def3e5b34",
   "metadata": {
    "tags": []
   },
   "source": [
    "|Data Science Tools|\n",
    "|-|\n",
    "|Apache Cassandra|\n",
    "|Kibana|\n",
    "|MySQL|\n"
   ]
  },
  {
   "cell_type": "markdown",
   "id": "2e5691c6-f359-4944-bade-cc158a196b28",
   "metadata": {
    "tags": []
   },
   "source": [
    "### Below are a few examples of evaluating arithmetic expressions in Python"
   ]
  },
  {
   "cell_type": "code",
   "execution_count": 31,
   "id": "ce0a8369-39e8-4a08-b43b-8ffa94194767",
   "metadata": {
    "tags": []
   },
   "outputs": [
    {
     "data": {
      "text/plain": [
       "17"
      ]
     },
     "execution_count": 31,
     "metadata": {},
     "output_type": "execute_result"
    }
   ],
   "source": [
    "# This a simple arithmetic expression to mutiply then add integers\n",
    "(3*4)+5"
   ]
  },
  {
   "cell_type": "code",
   "execution_count": 27,
   "id": "88be22d3-7d34-4a33-914b-5669a1de0967",
   "metadata": {
    "tags": []
   },
   "outputs": [
    {
     "name": "stdout",
     "output_type": "stream",
     "text": [
      "200 minutes are converted in 3.3333333333333335 hours\n"
     ]
    }
   ],
   "source": [
    "# This will convert 200 minutes to hours by diving by 60\n",
    "minutes=200\n",
    "cost=60\n",
    "hours=minutes/cost\n",
    "print(minutes,\"minutes are converted in\", hours,\"hours\")"
   ]
  },
  {
   "cell_type": "markdown",
   "id": "551be340-2d22-4a57-b15c-9802e897182a",
   "metadata": {
    "tags": []
   },
   "source": [
    "**Objectives:**\n",
    "- R\n",
    "- Julia\n",
    "- Python"
   ]
  },
  {
   "cell_type": "markdown",
   "id": "c36a6ac7-5b4a-43c5-9c96-7df0656ffe75",
   "metadata": {
    "tags": []
   },
   "source": [
    "## Author\n",
    "Marco"
   ]
  },
  {
   "cell_type": "code",
   "execution_count": null,
   "id": "87c672b4-8e34-447e-b20c-1da053cc21f2",
   "metadata": {},
   "outputs": [],
   "source": []
  }
 ],
 "metadata": {
  "kernelspec": {
   "display_name": "Python",
   "language": "python",
   "name": "conda-env-python-py"
  },
  "language_info": {
   "codemirror_mode": {
    "name": "ipython",
    "version": 3
   },
   "file_extension": ".py",
   "mimetype": "text/x-python",
   "name": "python",
   "nbconvert_exporter": "python",
   "pygments_lexer": "ipython3",
   "version": "3.7.12"
  }
 },
 "nbformat": 4,
 "nbformat_minor": 5
}
